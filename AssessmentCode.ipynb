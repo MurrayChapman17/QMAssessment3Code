{
 "cells": [
  {
   "cell_type": "markdown",
   "id": "95a41003-44a2-4140-98e1-7bd8a9f8cb8c",
   "metadata": {},
   "source": [
    "## Packages and Data"
   ]
  },
  {
   "cell_type": "markdown",
   "id": "50fd4c67-1b94-4384-8817-64b2963b7ab5",
   "metadata": {},
   "source": [
    "Read in and clean the 'Housing Price Gap' Data"
   ]
  },
  {
   "cell_type": "code",
   "execution_count": 60,
   "id": "cf49a8c6-77e1-4c5a-9e27-fb2b5b061337",
   "metadata": {},
   "outputs": [],
   "source": [
    "import pandas as pd # Needed for reading csv\n",
    "import numpy as np # Needed for setting : to nan\n",
    "import matplotlib.pyplot as plt # For graphing\n",
    "import seaborn as sns # For fancy plots"
   ]
  },
  {
   "cell_type": "code",
   "execution_count": 167,
   "id": "c5c18aaf-4b37-4918-8939-f9ae41ea4540",
   "metadata": {},
   "outputs": [
    {
     "data": {
      "text/plain": [
       "Index(['New Code', 'Old Code', 'Area', '2002', '2003', '2004', '2005', '2006',\n",
       "       '2007', '2008', '2009', '2010', '2011', '2012', '2013', '2014', '2015',\n",
       "       '2016', '2017', '2018', '2019', '2020'],\n",
       "      dtype='object')"
      ]
     },
     "execution_count": 167,
     "metadata": {},
     "output_type": "execute_result"
    }
   ],
   "source": [
    "raw_ratio = pd.read_csv('Data/House_Price_Wages_Ratio.csv', # Read in the csv for the ratio data\n",
    "                        encoding = 'utf-8')\n",
    "raw_ratio.columns"
   ]
  },
  {
   "cell_type": "code",
   "execution_count": 168,
   "id": "46cbc44e-6677-4afd-b05d-70d79347407f",
   "metadata": {},
   "outputs": [
    {
     "data": {
      "text/html": [
       "<div>\n",
       "<style scoped>\n",
       "    .dataframe tbody tr th:only-of-type {\n",
       "        vertical-align: middle;\n",
       "    }\n",
       "\n",
       "    .dataframe tbody tr th {\n",
       "        vertical-align: top;\n",
       "    }\n",
       "\n",
       "    .dataframe thead th {\n",
       "        text-align: right;\n",
       "    }\n",
       "</style>\n",
       "<table border=\"1\" class=\"dataframe\">\n",
       "  <thead>\n",
       "    <tr style=\"text-align: right;\">\n",
       "      <th></th>\n",
       "      <th>Area_Code</th>\n",
       "      <th>Old_Code</th>\n",
       "      <th>Area</th>\n",
       "      <th>r2019</th>\n",
       "    </tr>\n",
       "  </thead>\n",
       "  <tbody>\n",
       "    <tr>\n",
       "      <th>1</th>\n",
       "      <td>E09000001</td>\n",
       "      <td>00AA</td>\n",
       "      <td>City of London</td>\n",
       "      <td>:</td>\n",
       "    </tr>\n",
       "    <tr>\n",
       "      <th>2</th>\n",
       "      <td>E09000002</td>\n",
       "      <td>00AB</td>\n",
       "      <td>Barking and Dagenham</td>\n",
       "      <td>10.75</td>\n",
       "    </tr>\n",
       "    <tr>\n",
       "      <th>3</th>\n",
       "      <td>E09000003</td>\n",
       "      <td>00AC</td>\n",
       "      <td>Barnet</td>\n",
       "      <td>14.19</td>\n",
       "    </tr>\n",
       "    <tr>\n",
       "      <th>4</th>\n",
       "      <td>E09000004</td>\n",
       "      <td>00AD</td>\n",
       "      <td>Bexley</td>\n",
       "      <td>9.61</td>\n",
       "    </tr>\n",
       "    <tr>\n",
       "      <th>5</th>\n",
       "      <td>E09000005</td>\n",
       "      <td>00AE</td>\n",
       "      <td>Brent</td>\n",
       "      <td>15.59</td>\n",
       "    </tr>\n",
       "  </tbody>\n",
       "</table>\n",
       "</div>"
      ],
      "text/plain": [
       "   Area_Code Old_Code                  Area  r2019\n",
       "1  E09000001     00AA        City of London      :\n",
       "2  E09000002     00AB  Barking and Dagenham  10.75\n",
       "3  E09000003     00AC                Barnet  14.19\n",
       "4  E09000004     00AD                Bexley   9.61\n",
       "5  E09000005     00AE                 Brent  15.59"
      ]
     },
     "execution_count": 168,
     "metadata": {},
     "output_type": "execute_result"
    }
   ],
   "source": [
    "# Desired columns only\n",
    "# Keep the \"Old Code\" becuase the tourism spend data doesn't have the new code\n",
    "# This will allow a separate join on this column to work for this dataset\n",
    "ratio = raw_ratio[['New Code','Old Code','Area','2019']].dropna().rename(columns={\n",
    "    'New Code': 'Area_Code',\n",
    "    'Old Code': 'Old_Code',\n",
    "    '2019': 'r2019'})\n",
    "ratio.head()"
   ]
  },
  {
   "cell_type": "code",
   "execution_count": 169,
   "id": "426353ca-e104-427c-bcf2-8b0e2c7f39d6",
   "metadata": {},
   "outputs": [
    {
     "data": {
      "text/html": [
       "<div>\n",
       "<style scoped>\n",
       "    .dataframe tbody tr th:only-of-type {\n",
       "        vertical-align: middle;\n",
       "    }\n",
       "\n",
       "    .dataframe tbody tr th {\n",
       "        vertical-align: top;\n",
       "    }\n",
       "\n",
       "    .dataframe thead th {\n",
       "        text-align: right;\n",
       "    }\n",
       "</style>\n",
       "<table border=\"1\" class=\"dataframe\">\n",
       "  <thead>\n",
       "    <tr style=\"text-align: right;\">\n",
       "      <th></th>\n",
       "      <th>Area_Code</th>\n",
       "      <th>Old_Code</th>\n",
       "      <th>Area</th>\n",
       "      <th>r2019</th>\n",
       "    </tr>\n",
       "  </thead>\n",
       "  <tbody>\n",
       "    <tr>\n",
       "      <th>2</th>\n",
       "      <td>E09000002</td>\n",
       "      <td>00AB</td>\n",
       "      <td>Barking and Dagenham</td>\n",
       "      <td>10.75</td>\n",
       "    </tr>\n",
       "    <tr>\n",
       "      <th>3</th>\n",
       "      <td>E09000003</td>\n",
       "      <td>00AC</td>\n",
       "      <td>Barnet</td>\n",
       "      <td>14.19</td>\n",
       "    </tr>\n",
       "    <tr>\n",
       "      <th>4</th>\n",
       "      <td>E09000004</td>\n",
       "      <td>00AD</td>\n",
       "      <td>Bexley</td>\n",
       "      <td>9.61</td>\n",
       "    </tr>\n",
       "    <tr>\n",
       "      <th>5</th>\n",
       "      <td>E09000005</td>\n",
       "      <td>00AE</td>\n",
       "      <td>Brent</td>\n",
       "      <td>15.59</td>\n",
       "    </tr>\n",
       "    <tr>\n",
       "      <th>6</th>\n",
       "      <td>E09000006</td>\n",
       "      <td>00AF</td>\n",
       "      <td>Bromley</td>\n",
       "      <td>10.73</td>\n",
       "    </tr>\n",
       "  </tbody>\n",
       "</table>\n",
       "</div>"
      ],
      "text/plain": [
       "   Area_Code Old_Code                  Area  r2019\n",
       "2  E09000002     00AB  Barking and Dagenham  10.75\n",
       "3  E09000003     00AC                Barnet  14.19\n",
       "4  E09000004     00AD                Bexley   9.61\n",
       "5  E09000005     00AE                 Brent  15.59\n",
       "6  E09000006     00AF               Bromley  10.73"
      ]
     },
     "execution_count": 169,
     "metadata": {},
     "output_type": "execute_result"
    }
   ],
   "source": [
    "# Get rid of 'City of London' value, which has an NaN stored as ':'\n",
    "ratio = ratio.drop(ratio[ratio.r2019 == ':'].index)\n",
    "ratio.head()"
   ]
  },
  {
   "cell_type": "code",
   "execution_count": 170,
   "id": "8f91aefd-2f40-4aeb-8dfa-dbb3a8e019eb",
   "metadata": {},
   "outputs": [
    {
     "data": {
      "text/plain": [
       "Area_Code     object\n",
       "Old_Code      object\n",
       "Area          object\n",
       "r2019        float64\n",
       "dtype: object"
      ]
     },
     "execution_count": 170,
     "metadata": {},
     "output_type": "execute_result"
    }
   ],
   "source": [
    "# Convert the column to floats, so that it can be plotted\n",
    "ratio['r2019'] = pd.to_numeric(ratio['r2019'])\n",
    "ratio.dtypes"
   ]
  },
  {
   "cell_type": "code",
   "execution_count": 149,
   "id": "a1a866ba-8f94-4a0c-8d5f-7c9fa51f2806",
   "metadata": {},
   "outputs": [],
   "source": [
    "# Creates basic stats for any given set of input values\n",
    "# Provide the data, the title, and the label for the y-axis on the boxplot\n",
    "def summary_stats(data_col, title, label):\n",
    "    print(f'\\nSummary Statistics for:\\n\\n{title}\\n\\n{data_col.describe()}\\n') # Summary statistics\n",
    "    print('Box Plot:\\n')\n",
    "        # Boxplot\n",
    "    plt.figure(figsize=(2,5)) \n",
    "    plt.boxplot(data_col, widths = 0.5)\n",
    "    plt.ylabel(label, size=12)\n",
    "    plt.xticks([]) # So no ticks appear on x axis\n",
    "    plt.title(title)\n",
    "    plt.show()"
   ]
  },
  {
   "cell_type": "code",
   "execution_count": 151,
   "id": "ebe57ab9-0ee7-46af-b112-99a7ead28343",
   "metadata": {},
   "outputs": [
    {
     "name": "stdout",
     "output_type": "stream",
     "text": [
      "\n",
      "Summary Statistics for:\n",
      "\n",
      "House Price to\n",
      "Earnings Ratio\n",
      "\n",
      "count    42.000000\n",
      "mean     12.456667\n",
      "std       4.159593\n",
      "min       5.210000\n",
      "25%      10.482500\n",
      "50%      12.685000\n",
      "75%      14.362500\n",
      "max      27.640000\n",
      "Name: r2019, dtype: float64\n",
      "\n",
      "Box Plot:\n",
      "\n"
     ]
    },
    {
     "data": {
      "image/png": "[encoded data removed]",
      "text/plain": [
       "<Figure size 144x360 with 1 Axes>"
      ]
     },
     "metadata": {
      "needs_background": "light"
     },
     "output_type": "display_data"
    }
   ],
   "source": [
    "summary_stats(ratio.r2019,\n",
    "              'House Price to\\nEarnings Ratio',\n",
    "              'Ratio of Median House Price\\nto Average Yearly Earnings')"
   ]
  },
  {
   "cell_type": "code",
   "execution_count": 121,
   "id": "2cfcebe9-4362-4d38-bfc8-4896e4ec034a",
   "metadata": {},
   "outputs": [],
   "source": [
    "raw_rental = pd.read_excel('Data/Rental_Rates.xls', # Read in the excel sheet\n",
    "                           sheet_name = 'Table2.7')\n",
    "# There's loads of junk at the top, with the column headings I want on row five\n",
    "# I save the row I want as a variable to assign as the index labels later\n",
    "header_row = raw_rental.iloc[5]"
   ]
  },
  {
   "cell_type": "code",
   "execution_count": 153,
   "id": "b47878a6-53cf-4116-9ee4-7f40bdda5aa4",
   "metadata": {},
   "outputs": [
    {
     "data": {
      "text/html": [
       "<div>\n",
       "<style scoped>\n",
       "    .dataframe tbody tr th:only-of-type {\n",
       "        vertical-align: middle;\n",
       "    }\n",
       "\n",
       "    .dataframe tbody tr th {\n",
       "        vertical-align: top;\n",
       "    }\n",
       "\n",
       "    .dataframe thead th {\n",
       "        text-align: right;\n",
       "    }\n",
       "</style>\n",
       "<table border=\"1\" class=\"dataframe\">\n",
       "  <thead>\n",
       "    <tr style=\"text-align: right;\">\n",
       "      <th>5</th>\n",
       "      <th>NaN</th>\n",
       "      <th>LA Code1</th>\n",
       "      <th>Area Code1</th>\n",
       "      <th>Area</th>\n",
       "      <th>Count of rents</th>\n",
       "      <th>Mean</th>\n",
       "      <th>Lower quartile</th>\n",
       "      <th>Median</th>\n",
       "      <th>Upper quartile</th>\n",
       "    </tr>\n",
       "  </thead>\n",
       "  <tbody>\n",
       "    <tr>\n",
       "      <th>6</th>\n",
       "      <td>NaN</td>\n",
       "      <td>NaN</td>\n",
       "      <td>E92000001</td>\n",
       "      <td>ENGLAND</td>\n",
       "      <td>480750</td>\n",
       "      <td>898</td>\n",
       "      <td>585</td>\n",
       "      <td>755</td>\n",
       "      <td>1050</td>\n",
       "    </tr>\n",
       "    <tr>\n",
       "      <th>7</th>\n",
       "      <td>NaN</td>\n",
       "      <td>NaN</td>\n",
       "      <td>E12000001</td>\n",
       "      <td>NORTH EAST</td>\n",
       "      <td>23690</td>\n",
       "      <td>572</td>\n",
       "      <td>425</td>\n",
       "      <td>500</td>\n",
       "      <td>625</td>\n",
       "    </tr>\n",
       "    <tr>\n",
       "      <th>8</th>\n",
       "      <td>NaN</td>\n",
       "      <td>1355</td>\n",
       "      <td>E06000047</td>\n",
       "      <td>County Durham UA</td>\n",
       "      <td>5650</td>\n",
       "      <td>516</td>\n",
       "      <td>400</td>\n",
       "      <td>475</td>\n",
       "      <td>550</td>\n",
       "    </tr>\n",
       "    <tr>\n",
       "      <th>9</th>\n",
       "      <td>NaN</td>\n",
       "      <td>1350</td>\n",
       "      <td>E06000005</td>\n",
       "      <td>Darlington UA</td>\n",
       "      <td>2300</td>\n",
       "      <td>501</td>\n",
       "      <td>400</td>\n",
       "      <td>450</td>\n",
       "      <td>550</td>\n",
       "    </tr>\n",
       "    <tr>\n",
       "      <th>10</th>\n",
       "      <td>NaN</td>\n",
       "      <td>724</td>\n",
       "      <td>E06000001</td>\n",
       "      <td>Hartlepool UA</td>\n",
       "      <td>800</td>\n",
       "      <td>494</td>\n",
       "      <td>415</td>\n",
       "      <td>495</td>\n",
       "      <td>550</td>\n",
       "    </tr>\n",
       "  </tbody>\n",
       "</table>\n",
       "</div>"
      ],
      "text/plain": [
       "5   NaN LA Code1 Area Code1              Area Count of rents Mean  \\\n",
       "6   NaN      NaN  E92000001           ENGLAND         480750  898   \n",
       "7   NaN      NaN  E12000001        NORTH EAST          23690  572   \n",
       "8   NaN     1355  E06000047  County Durham UA           5650  516   \n",
       "9   NaN     1350  E06000005     Darlington UA           2300  501   \n",
       "10  NaN      724  E06000001     Hartlepool UA            800  494   \n",
       "\n",
       "5  Lower quartile Median Upper quartile  \n",
       "6             585    755           1050  \n",
       "7             425    500            625  \n",
       "8             400    475            550  \n",
       "9             400    450            550  \n",
       "10            415    495            550  "
      ]
     },
     "execution_count": 153,
     "metadata": {},
     "output_type": "execute_result"
    }
   ],
   "source": [
    "# Drop the first five rows, including the row we want as the index labels, so its not repeated\n",
    "rental_cleaned = raw_rental.drop(list(range(6)))\n",
    "rental_cleaned.columns = header_row # Assign the row from before as index labels\n",
    "rental_cleaned.head()"
   ]
  },
  {
   "cell_type": "code",
   "execution_count": 129,
   "id": "d9716beb-8f61-4ab5-a579-d53d7d23f4ad",
   "metadata": {},
   "outputs": [
    {
     "data": {
      "text/html": [
       "<div>\n",
       "<style scoped>\n",
       "    .dataframe tbody tr th:only-of-type {\n",
       "        vertical-align: middle;\n",
       "    }\n",
       "\n",
       "    .dataframe tbody tr th {\n",
       "        vertical-align: top;\n",
       "    }\n",
       "\n",
       "    .dataframe thead th {\n",
       "        text-align: right;\n",
       "    }\n",
       "</style>\n",
       "<table border=\"1\" class=\"dataframe\">\n",
       "  <thead>\n",
       "    <tr style=\"text-align: right;\">\n",
       "      <th>5</th>\n",
       "      <th>Area_Code</th>\n",
       "      <th>Rent_Count</th>\n",
       "      <th>Rent_Price_Mean</th>\n",
       "    </tr>\n",
       "  </thead>\n",
       "  <tbody>\n",
       "    <tr>\n",
       "      <th>6</th>\n",
       "      <td>E92000001</td>\n",
       "      <td>480750</td>\n",
       "      <td>898</td>\n",
       "    </tr>\n",
       "    <tr>\n",
       "      <th>7</th>\n",
       "      <td>E12000001</td>\n",
       "      <td>23690</td>\n",
       "      <td>572</td>\n",
       "    </tr>\n",
       "    <tr>\n",
       "      <th>8</th>\n",
       "      <td>E06000047</td>\n",
       "      <td>5650</td>\n",
       "      <td>516</td>\n",
       "    </tr>\n",
       "    <tr>\n",
       "      <th>9</th>\n",
       "      <td>E06000005</td>\n",
       "      <td>2300</td>\n",
       "      <td>501</td>\n",
       "    </tr>\n",
       "    <tr>\n",
       "      <th>10</th>\n",
       "      <td>E06000001</td>\n",
       "      <td>800</td>\n",
       "      <td>494</td>\n",
       "    </tr>\n",
       "  </tbody>\n",
       "</table>\n",
       "</div>"
      ],
      "text/plain": [
       "5   Area_Code Rent_Count Rent_Price_Mean\n",
       "6   E92000001     480750             898\n",
       "7   E12000001      23690             572\n",
       "8   E06000047       5650             516\n",
       "9   E06000005       2300             501\n",
       "10  E06000001        800             494"
      ]
     },
     "execution_count": 129,
     "metadata": {},
     "output_type": "execute_result"
    }
   ],
   "source": [
    "# Pick out the desired columns and relabel them\n",
    "# I must make sure all dataframes have the area codes stored under \"Area_Code\" for merging\n",
    "rental_data = rental_cleaned[['Area Code1','Count of rents','Mean']].rename(columns={\n",
    "    'Area Code1': 'Area_Code',\n",
    "    'Count of rents':'Rent_Count',\n",
    "    'Mean':'Rent_Price_Mean'})\n",
    "rental_data.head()\n",
    "\n",
    "# NOTE: This dataset includes all other administrative areas in the UK as well"
   ]
  },
  {
   "cell_type": "code",
   "execution_count": 130,
   "id": "d08247c5-1830-4bdd-8b1b-5eec5ca2691d",
   "metadata": {},
   "outputs": [
    {
     "data": {
      "text/plain": [
       "Index(['Ward_GSS_CODE', 'Ward_NAME', 'BOROUGH_LB_GSS_CD', 'BOROUGH_Name',\n",
       "       'Total area of ward (sq m)', 'All Open Space', '% open space',\n",
       "       'Open Space with access', '% Open Space with access',\n",
       "       '% of open space that has access'],\n",
       "      dtype='object')"
      ]
     },
     "execution_count": 130,
     "metadata": {},
     "output_type": "execute_result"
    }
   ],
   "source": [
    "raw_open_space = pd.read_csv('Data/Open_Space.csv', # Read in the csv\n",
    "                        encoding = 'utf-8')\n",
    "raw_open_space.columns"
   ]
  },
  {
   "cell_type": "code",
   "execution_count": 138,
   "id": "31e87d5e-0b8d-4e7c-a652-99c9cb5b9baa",
   "metadata": {},
   "outputs": [],
   "source": [
    "# Select desired columns and rename, keeping Area_Code consistent\n",
    "open_space = raw_open_space[['Ward_GSS_CODE',\n",
    "                             'Total area of ward (sq m)',\n",
    "                             '% open space']].rename(columns={\n",
    "    'Ward_GSS_CODE':'Area_Code',\n",
    "    'Total area of ward (sq m)': 'Land_Area(m^2)',\n",
    "    '% open space':'%Open_Space_2013'})"
   ]
  },
  {
   "cell_type": "code",
   "execution_count": 139,
   "id": "cc5d6b92-504f-472f-85f5-1a99115a7048",
   "metadata": {},
   "outputs": [
    {
     "data": {
      "text/html": [
       "<div>\n",
       "<style scoped>\n",
       "    .dataframe tbody tr th:only-of-type {\n",
       "        vertical-align: middle;\n",
       "    }\n",
       "\n",
       "    .dataframe tbody tr th {\n",
       "        vertical-align: top;\n",
       "    }\n",
       "\n",
       "    .dataframe thead th {\n",
       "        text-align: right;\n",
       "    }\n",
       "</style>\n",
       "<table border=\"1\" class=\"dataframe\">\n",
       "  <thead>\n",
       "    <tr style=\"text-align: right;\">\n",
       "      <th></th>\n",
       "      <th>Area_Code</th>\n",
       "      <th>Land_Area(m^2)</th>\n",
       "      <th>%Open_Space_2013</th>\n",
       "    </tr>\n",
       "  </thead>\n",
       "  <tbody>\n",
       "    <tr>\n",
       "      <th>0</th>\n",
       "      <td>E05000026</td>\n",
       "      <td>1,282,926</td>\n",
       "      <td>21.9</td>\n",
       "    </tr>\n",
       "    <tr>\n",
       "      <th>1</th>\n",
       "      <td>E05000027</td>\n",
       "      <td>1,364,442</td>\n",
       "      <td>20.6</td>\n",
       "    </tr>\n",
       "    <tr>\n",
       "      <th>2</th>\n",
       "      <td>E05000028</td>\n",
       "      <td>1,288,085</td>\n",
       "      <td>1.9</td>\n",
       "    </tr>\n",
       "    <tr>\n",
       "      <th>3</th>\n",
       "      <td>E05000029</td>\n",
       "      <td>3,384,193</td>\n",
       "      <td>56.0</td>\n",
       "    </tr>\n",
       "    <tr>\n",
       "      <th>4</th>\n",
       "      <td>E05000030</td>\n",
       "      <td>3,450,576</td>\n",
       "      <td>50.4</td>\n",
       "    </tr>\n",
       "  </tbody>\n",
       "</table>\n",
       "</div>"
      ],
      "text/plain": [
       "   Area_Code Land_Area(m^2)  %Open_Space_2013\n",
       "0  E05000026      1,282,926              21.9\n",
       "1  E05000027      1,364,442              20.6\n",
       "2  E05000028      1,288,085               1.9\n",
       "3  E05000029      3,384,193              56.0\n",
       "4  E05000030      3,450,576              50.4"
      ]
     },
     "execution_count": 139,
     "metadata": {},
     "output_type": "execute_result"
    }
   ],
   "source": [
    "open_space.head()\n",
    "\n",
    "# NOTE: All the wards are in the dataframe as well, with the boroughs at the bottom\n",
    "# The area code will serve as a unique identify for the boroughs and filter out the wards"
   ]
  },
  {
   "cell_type": "code",
   "execution_count": 162,
   "id": "813ea3b8-6ac8-46b8-97fa-21adb5fa658e",
   "metadata": {},
   "outputs": [
    {
     "data": {
      "text/plain": [
       "Index(['Code', 'Area', 'Overseas visitors (£ millions)',\n",
       "       'Domestic visitors (£ millions)', 'Day visitors (£ millions)'],\n",
       "      dtype='object')"
      ]
     },
     "execution_count": 162,
     "metadata": {},
     "output_type": "execute_result"
    }
   ],
   "source": [
    "raw_tourism_spend = pd.read_csv('Data/Tourism_Spend_2009.csv', # Read in the csv\n",
    "                        encoding = 'utf-8')\n",
    "raw_tourism_spend.columns"
   ]
  },
  {
   "cell_type": "code",
   "execution_count": 163,
   "id": "6e0c3a25-d394-4bcf-aa37-08bbdade5706",
   "metadata": {},
   "outputs": [
    {
     "data": {
      "text/plain": [
       "Code                              object\n",
       "Area                              object\n",
       "Overseas visitors (£ millions)    object\n",
       "Domestic visitors (£ millions)    object\n",
       "Day visitors (£ millions)         object\n",
       "dtype: object"
      ]
     },
     "execution_count": 163,
     "metadata": {},
     "output_type": "execute_result"
    }
   ],
   "source": [
    "# I need to sum the two values fir international and domestic spend together first\n",
    "raw_tourism_spend.dtypes"
   ]
  },
  {
   "cell_type": "code",
   "execution_count": 164,
   "id": "d3a22c86-1337-4ab2-907b-d9ed438a7972",
   "metadata": {},
   "outputs": [
    {
     "data": {
      "text/plain": [
       "Code                               object\n",
       "Area                               object\n",
       "Overseas visitors (£ millions)    float64\n",
       "Domestic visitors (£ millions)    float64\n",
       "Day visitors (£ millions)          object\n",
       "dtype: object"
      ]
     },
     "execution_count": 164,
     "metadata": {},
     "output_type": "execute_result"
    }
   ],
   "source": [
    "tourism_spend_processed = raw_tourism_spend\n",
    "tourism_spend_processed['Overseas visitors (£ millions)'] = tourism_spend_processed['Overseas visitors (£ millions)'].str.replace(',','').astype('float')\n",
    "tourism_spend_processed['Domestic visitors (£ millions)'] = tourism_spend_processed['Domestic visitors (£ millions)'].str.replace(',','').astype('float')"
   ]
  },
  {
   "cell_type": "code",
   "execution_count": 165,
   "id": "fca3a23e-a1ea-4f3b-90be-253760e53dee",
   "metadata": {},
   "outputs": [
    {
     "data": {
      "text/plain": [
       "Code                               object\n",
       "Area                               object\n",
       "Overseas visitors (£ millions)    float64\n",
       "Domestic visitors (£ millions)    float64\n",
       "Day visitors (£ millions)          object\n",
       "Visitor_Spend(£m)                 float64\n",
       "dtype: object"
      ]
     },
     "execution_count": 165,
     "metadata": {},
     "output_type": "execute_result"
    }
   ],
   "source": [
    "tourism_spend_processed['Visitor_Spend(£m)'] = sum(tourism_spend_processed['Overseas visitors (£ millions)'],\n",
    "                                                   tourism_spend_processed['Domestic visitors (£ millions)'])\n",
    "tourism_spend_processed.dtypes"
   ]
  },
  {
   "cell_type": "code",
   "execution_count": 166,
   "id": "68f5c14c-350d-4aa4-9361-5313c8cd4ecd",
   "metadata": {},
   "outputs": [],
   "source": [
    "# Note, this has the old area codes\n",
    "tourism_spend_2009 = raw_tourism_spend[['Code',\n",
    "                             'Visitor_Spend(£m)']].rename(columns={\n",
    "    'Code':'Old_Code'})"
   ]
  },
  {
   "cell_type": "code",
   "execution_count": null,
   "id": "729caca0-7f18-463e-a3fd-7f0304712f89",
   "metadata": {},
   "outputs": [],
   "source": [
    "# Now I'm ready to start joining the data\n",
    "y_with_tourism = "
   ]
  }
 ],
 "metadata": {
  "kernelspec": {
   "display_name": "Python 3 (ipykernel)",
   "language": "python",
   "name": "python3"
  },
  "language_info": {
   "codemirror_mode": {
    "name": "ipython",
    "version": 3
   },
   "file_extension": ".py",
   "mimetype": "text/x-python",
   "name": "python",
   "nbconvert_exporter": "python",
   "pygments_lexer": "ipython3",
   "version": "3.9.6"
  }
 },
 "nbformat": 4,
 "nbformat_minor": 5
}
